{
 "cells": [
  {
   "cell_type": "code",
   "execution_count": 3,
   "id": "b5946251",
   "metadata": {},
   "outputs": [
    {
     "name": "stdout",
     "output_type": "stream",
     "text": [
      "Enter the array of integers: 1 5  7 -1 5\n",
      "Enter the target sum: 6\n",
      "Pairs with sum 6:\n",
      "(5, 1)\n",
      "(-1, 7)\n",
      "(5, 1)\n"
     ]
    }
   ],
   "source": [
    "#Q1. Write a program to find all pairs of an integer array whose sum is equal to a given number?\n",
    "\n",
    "def find_pairs(array, target_sum):\n",
    "    pairs = []\n",
    "    complements = set()\n",
    "\n",
    "    for num in array:\n",
    "        complement = target_sum - num\n",
    "        if complement in complements:\n",
    "            pairs.append((num, complement))\n",
    "        complements.add(num)\n",
    "\n",
    "    return pairs\n",
    "\n",
    "array = input(\"Enter the array of integers: \").split()\n",
    "array = [int(num) for num in array]\n",
    "\n",
    "target = int(input(\"Enter the target sum: \"))\n",
    "\n",
    "result = find_pairs(array, target)\n",
    "print(f\"Pairs with sum {target}:\")\n",
    "for pair in result:\n",
    "    print(pair)"
   ]
  },
  {
   "cell_type": "code",
   "execution_count": 4,
   "id": "b9418a83",
   "metadata": {},
   "outputs": [
    {
     "name": "stdout",
     "output_type": "stream",
     "text": [
      "Enter the elements of the array: 20 30 40 50\n",
      "Reversed Array: [50, 40, 30, 20]\n"
     ]
    }
   ],
   "source": [
    "#Q2. Write a program to reverse an array in place? In place means you cannot create a new array. You have to update the original array.\n",
    "\n",
    "def reverse_array(arr):\n",
    "    start = 0\n",
    "    end = len(arr) - 1\n",
    "    \n",
    "    while start < end:\n",
    "        arr[start], arr[end] = arr[end], arr[start]\n",
    "        start += 1\n",
    "        end -= 1\n",
    "\n",
    "input_arr = input(\"Enter the elements of the array: \").split()\n",
    "array = [int(num) for num in input_arr]\n",
    "\n",
    "reverse_array(array)\n",
    "\n",
    "print(\"Reversed Array:\", array)"
   ]
  },
  {
   "cell_type": "code",
   "execution_count": 6,
   "id": "f8e60e5b",
   "metadata": {},
   "outputs": [
    {
     "name": "stdout",
     "output_type": "stream",
     "text": [
      "Enter the first string: syam\n",
      "Enter the second string: syam\n",
      "The two strings are rotations of each other.\n"
     ]
    }
   ],
   "source": [
    "#Q3. Write a program to check if two strings are a rotation of each other?\n",
    "\n",
    "def are_rotations(str1, str2):\n",
    "    if len(str1) != len(str2):\n",
    "        return False\n",
    "    temp = str1 + str1\n",
    "\n",
    "    if str2 in temp:\n",
    "        return True\n",
    "    else:\n",
    "        return False\n",
    "\n",
    "\n",
    "string1 = input(\"Enter the first string: \")\n",
    "string2 = input(\"Enter the second string: \")\n",
    "\n",
    "\n",
    "if are_rotations(string1, string2):\n",
    "    print(\"The two strings are rotations of each other.\")\n",
    "else:\n",
    "    print(\"The two strings are not rotations of each other.\")"
   ]
  },
  {
   "cell_type": "code",
   "execution_count": 9,
   "id": "f7b6afd2",
   "metadata": {},
   "outputs": [
    {
     "name": "stdout",
     "output_type": "stream",
     "text": [
      "Enter a string: syam\n",
      "The first non-repeated character is: s\n"
     ]
    }
   ],
   "source": [
    "#Q4. Write a program to print the first non-repeated character from a string?\n",
    "\n",
    "def find_char(string):\n",
    "    len = {}\n",
    "\n",
    "    for char in string:\n",
    "        len[char] = len.get(char, 0) + 1\n",
    "\n",
    "    for char in string:\n",
    "        if len[char] == 1:\n",
    "            return char\n",
    "\n",
    "    return None\n",
    "\n",
    "input_string = input(\"Enter a string: \")\n",
    "result = find_char(input_string)\n",
    "\n",
    "if result:\n",
    "    print(\"The first non-repeated character is:\", result)\n",
    "else:\n",
    "    print(\"No non-repeated character found in the string.\")"
   ]
  },
  {
   "cell_type": "code",
   "execution_count": 10,
   "id": "ddb4f0aa",
   "metadata": {},
   "outputs": [
    {
     "name": "stdout",
     "output_type": "stream",
     "text": [
      "Move disk 1 from A to C\n",
      "Move disk 2 from A to B\n",
      "Move disk 1 from C to B\n",
      "Move disk 3 from A to C\n",
      "Move disk 1 from B to A\n",
      "Move disk 2 from B to C\n",
      "Move disk 1 from A to C\n"
     ]
    }
   ],
   "source": [
    "#Q5. Read about the Tower of Hanoi algorithm. Write a program to implement it.\n",
    "\n",
    "def tower_of_hanoi(n, source, destination, auxiliary):\n",
    "    if n == 1:\n",
    "        print(\"Move disk 1 from\", source, \"to\", destination)\n",
    "        return\n",
    "\n",
    "    tower_of_hanoi(n - 1, source, auxiliary, destination)\n",
    "    print(\"Move disk\", n, \"from\", source, \"to\", destination)\n",
    "    tower_of_hanoi(n - 1, auxiliary, destination, source)\n",
    "\n",
    "\n",
    "num_disks = 3\n",
    "tower_of_hanoi(num_disks, \"A\", \"C\", \"B\")"
   ]
  },
  {
   "cell_type": "code",
   "execution_count": 13,
   "id": "ed633241",
   "metadata": {},
   "outputs": [
    {
     "name": "stdout",
     "output_type": "stream",
     "text": [
      "Enter the postfix expression: ab+cd-*\n",
      "Prefix expression: *+ab-cd\n"
     ]
    }
   ],
   "source": [
    "#Q6. Read about infix, prefix, and postfix expressions. Write a program to convert postfix to prefix expression.\n",
    "\n",
    "def is_operator(char):\n",
    "    \"\"\"Check if a character is an operator.\"\"\"\n",
    "    return char in \"+-*/^\"\n",
    "\n",
    "def postfix_to_prefix(expression):\n",
    "    \"\"\"Convert a postfix expression to a prefix expression.\"\"\"\n",
    "    stack = []\n",
    "\n",
    "    for char in expression:\n",
    "        if is_operator(char):\n",
    "            operand1 = stack.pop()\n",
    "            operand2 = stack.pop()\n",
    "\n",
    "            prefix = char + operand2 + operand1\n",
    "\n",
    "            stack.append(prefix)\n",
    "        else:\n",
    "            stack.append(char)\n",
    "\n",
    "    return stack.pop()\n",
    "\n",
    "postfix = input(\"Enter the postfix expression: \")\n",
    "\n",
    "prefix = postfix_to_prefix(postfix)\n",
    "\n",
    "print(\"Prefix expression:\", prefix)\n"
   ]
  },
  {
   "cell_type": "code",
   "execution_count": 14,
   "id": "51250ee8",
   "metadata": {},
   "outputs": [
    {
     "name": "stdout",
     "output_type": "stream",
     "text": [
      "Enter the prefix expression: *+ab-cd\n",
      "Infix expression: ((a+b)*(c-d))\n"
     ]
    }
   ],
   "source": [
    "#Q7. Write a program to convert prefix expression to infix expression.\n",
    "\n",
    "def is_operator(char):\n",
    "    \"\"\"Check if a character is an operator.\"\"\"\n",
    "    return char in \"+-*/^\"\n",
    "\n",
    "def prefix_to_infix(expression):\n",
    "    \"\"\"Convert a prefix expression to an infix expression.\"\"\"\n",
    "    stack = []\n",
    "\n",
    "    for char in reversed(expression):\n",
    "        if is_operator(char):\n",
    "            operand1 = stack.pop()\n",
    "            operand2 = stack.pop()\n",
    "\n",
    "            infix_expression = '(' + operand1 + char + operand2 + ')'\n",
    "\n",
    "            stack.append(infix_expression)\n",
    "        else:\n",
    "            stack.append(char)\n",
    "\n",
    "    return stack.pop()\n",
    "\n",
    "prefix_expression = input(\"Enter the prefix expression: \")\n",
    "\n",
    "\n",
    "infix_expression = prefix_to_infix(prefix_expression)\n",
    "\n",
    "print(\"Infix expression:\", infix_expression)"
   ]
  },
  {
   "cell_type": "code",
   "execution_count": 16,
   "id": "5b031ce7",
   "metadata": {},
   "outputs": [
    {
     "name": "stdout",
     "output_type": "stream",
     "text": [
      "Enter the code snippet: []{}\n",
      "All brackets are balanced and closed.\n"
     ]
    }
   ],
   "source": [
    "#Q8. Write a program to check if all the brackets are closed in a given code snippet.\n",
    "\n",
    "def are_brackets_balanced(code):\n",
    "    \"\"\"Check if all brackets are balanced and closed in the code snippet.\"\"\"\n",
    "    stack = []\n",
    "\n",
    "    opening_brackets = ['(', '[', '{']\n",
    "    closing_brackets = [')', ']', '}']\n",
    "\n",
    "    for char in code:\n",
    "        if char in opening_brackets:\n",
    "            stack.append(char)\n",
    "        elif char in closing_brackets:\n",
    "            if len(stack) == 0:\n",
    "                return False\n",
    "\n",
    "            top_bracket = stack.pop()\n",
    "\n",
    "            if opening_brackets.index(top_bracket) != closing_brackets.index(char):\n",
    "                return False\n",
    "\n",
    "    return len(stack) == 0\n",
    "\n",
    "code_snippet = input(\"Enter the code snippet: \")\n",
    "\n",
    "if are_brackets_balanced(code_snippet):\n",
    "    print(\"All brackets are balanced and closed.\")\n",
    "else:\n",
    "    print(\"Some brackets are not balanced or closed.\")"
   ]
  },
  {
   "cell_type": "code",
   "execution_count": 17,
   "id": "adced7e4",
   "metadata": {},
   "outputs": [
    {
     "name": "stdout",
     "output_type": "stream",
     "text": [
      "Enter the stack elements: 1 2 3 4 \n",
      "Reversed stack:\n",
      "4\n",
      "3\n",
      "2\n",
      "1\n"
     ]
    }
   ],
   "source": [
    "#Q9. Write a program to reverse a stack.\n",
    "\n",
    "class Stack:\n",
    "    def __init__(self):\n",
    "        self.items = []\n",
    "\n",
    "    def is_empty(self):\n",
    "        return len(self.items) == 0\n",
    "\n",
    "    def push(self, item):\n",
    "        self.items.append(item)\n",
    "\n",
    "    def pop(self):\n",
    "        if self.is_empty():\n",
    "            return None\n",
    "        return self.items.pop()\n",
    "\n",
    "    def reverse(self):\n",
    "        if self.is_empty():\n",
    "            return\n",
    "\n",
    "        temp_stack = Stack()\n",
    "        while not self.is_empty():\n",
    "            temp_stack.push(self.pop())\n",
    "\n",
    "        while not temp_stack.is_empty():\n",
    "            self.push(temp_stack.pop())\n",
    "\n",
    "\n",
    "stack_input = input(\"Enter the stack elements: \")\n",
    "\n",
    "stack = Stack()\n",
    "elements = stack_input.split()\n",
    "for element in elements:\n",
    "    stack.push(element)\n",
    "\n",
    "stack.reverse()\n",
    "\n",
    "print(\"Reversed stack:\")\n",
    "while not stack.is_empty():\n",
    "    print(stack.pop())"
   ]
  },
  {
   "cell_type": "code",
   "execution_count": 18,
   "id": "17e26de7",
   "metadata": {},
   "outputs": [
    {
     "name": "stdout",
     "output_type": "stream",
     "text": [
      "Enter the stack elements: 16 15 29 19 18\n",
      "Smallest number in the stack: 15\n"
     ]
    }
   ],
   "source": [
    "#Q10. Write a program to find the smallest number using a stack.\n",
    "\n",
    "class Stack:\n",
    "    def __init__(self):\n",
    "        self.items = []\n",
    "\n",
    "    def is_empty(self):\n",
    "        return len(self.items) == 0\n",
    "\n",
    "    def push(self, item):\n",
    "        self.items.append(item)\n",
    "\n",
    "    def pop(self):\n",
    "        if self.is_empty():\n",
    "            return None\n",
    "        return self.items.pop()\n",
    "\n",
    "    def get_min(self):\n",
    "        if self.is_empty():\n",
    "            return None\n",
    "        return min(self.items)\n",
    "\n",
    "\n",
    "stack_input = input(\"Enter the stack elements: \")\n",
    "stack = Stack()\n",
    "elements = stack_input.split()\n",
    "for element in elements:\n",
    "    stack.push(int(element))\n",
    "\n",
    "smallest_number = stack.get_min()\n",
    "\n",
    "if smallest_number is not None:\n",
    "    print(\"Smallest number in the stack:\", smallest_number)\n",
    "else:\n",
    "    print(\"Stack is empty.\")"
   ]
  },
  {
   "cell_type": "code",
   "execution_count": null,
   "id": "1756af64",
   "metadata": {},
   "outputs": [],
   "source": []
  }
 ],
 "metadata": {
  "kernelspec": {
   "display_name": "Python 3 (ipykernel)",
   "language": "python",
   "name": "python3"
  },
  "language_info": {
   "codemirror_mode": {
    "name": "ipython",
    "version": 3
   },
   "file_extension": ".py",
   "mimetype": "text/x-python",
   "name": "python",
   "nbconvert_exporter": "python",
   "pygments_lexer": "ipython3",
   "version": "3.10.9"
  }
 },
 "nbformat": 4,
 "nbformat_minor": 5
}
